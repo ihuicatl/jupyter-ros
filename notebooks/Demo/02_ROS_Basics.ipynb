{
 "cells": [
  {
   "cell_type": "code",
   "execution_count": null,
   "id": "b19f52be-5889-4f1e-a5d5-10a9b21bd1a5",
   "metadata": {},
   "outputs": [],
   "source": [
    "import jupyros\n",
    "import rospy\n",
    "from std_msgs.msg import String\n",
    "from geometry_msgs.msg import Twist\n",
    "\n",
    "rospy.init_node('basics_node')"
   ]
  },
  {
   "cell_type": "markdown",
   "id": "5602fcfd-e641-412c-aede-5cce3a1ee04f",
   "metadata": {},
   "source": [
    "# Publishers and Subscribers"
   ]
  },
  {
   "cell_type": "code",
   "execution_count": null,
   "id": "06705f1b-d68e-429e-86c5-182b9cc37c0d",
   "metadata": {},
   "outputs": [],
   "source": [
    "topic = '/hello_world'\n",
    "\n",
    "jupyros.publish(topic, String)"
   ]
  },
  {
   "cell_type": "code",
   "execution_count": null,
   "id": "6570a5e3-c973-4e5d-b6e6-c36a4b302ae1",
   "metadata": {},
   "outputs": [],
   "source": [
    "jupyros.subscribe(topic, String, lambda msg: print(msg))"
   ]
  },
  {
   "cell_type": "code",
   "execution_count": null,
   "id": "9563e9ad-71c5-48d0-8aa7-252bc329f4ad",
   "metadata": {},
   "outputs": [],
   "source": [
    "topic = '/twist_world'\n",
    "\n",
    "jupyros.publish(topic, Twist)"
   ]
  },
  {
   "cell_type": "code",
   "execution_count": null,
   "id": "294a4de1-753f-4c05-962e-47a4b49fa685",
   "metadata": {},
   "outputs": [],
   "source": [
    "jupyros.subscribe(topic, Twist, lambda msg: print(msg))"
   ]
  },
  {
   "cell_type": "markdown",
   "id": "1aa1e861-0bcf-49f7-95ac-defaad84f302",
   "metadata": {},
   "source": [
    "# Clients and Services"
   ]
  },
  {
   "cell_type": "code",
   "execution_count": null,
   "id": "065e5a6d-58c1-4d8e-909a-9e333a36216b",
   "metadata": {},
   "outputs": [],
   "source": [
    "from rospy_tutorials.srv import AddTwoInts, AddTwoIntsResponse\n",
    "\n",
    "def handle_add_two_ints(req):\n",
    "    print(f\"Returning {req.a} + {req.b} = {req.a + req.b}\")\n",
    "    return AddTwoIntsResponse(req.a + req.b)\n",
    "\n",
    "srv_name = 'add_two_ints'"
   ]
  },
  {
   "cell_type": "code",
   "execution_count": null,
   "id": "de118fec-1724-40b7-b3ec-a410e0a03be1",
   "metadata": {},
   "outputs": [],
   "source": [
    "%%thread_cell\n",
    "\n",
    "srv = rospy.Service(srv_name, AddTwoInts, handle_add_two_ints)"
   ]
  },
  {
   "cell_type": "code",
   "execution_count": null,
   "id": "bf618862-a1bc-416a-be30-ebc5a14d8cdc",
   "metadata": {},
   "outputs": [],
   "source": [
    "jupyros.client(srv_name, AddTwoInts)"
   ]
  },
  {
   "cell_type": "markdown",
   "id": "ef60279e-eb67-4052-afa6-b6642116cff3",
   "metadata": {},
   "source": [
    "**Note:** Check log"
   ]
  },
  {
   "cell_type": "markdown",
   "id": "0993bf5d-0cee-4d5b-a1c6-4aa194a9dbea",
   "metadata": {},
   "source": [
    "# Turtlesim tf2"
   ]
  },
  {
   "cell_type": "code",
   "execution_count": null,
   "id": "55336394-3fd5-4436-ae2c-76eedbd61ebf",
   "metadata": {},
   "outputs": [],
   "source": [
    "from turtlesim.msg import Pose\n",
    "from jupyros.turtle_sim import TurtleSim\n",
    "import math"
   ]
  },
  {
   "cell_type": "code",
   "execution_count": null,
   "id": "9a4b7805-912d-4138-b023-871435001218",
   "metadata": {},
   "outputs": [],
   "source": [
    "turtlesim = TurtleSim()\n",
    "\n",
    "# The canvas default size is 1600 x 1600 starting from top-left\n",
    "turtlesim.spawn(name=\"turtle2\", pose={\"x\": 630,\n",
    "                                      \"y\": 1260,\n",
    "                                      \"theta\": math.radians(90)})\n",
    "\n",
    "turtlesim.turtles[\"turtle2\"].path_color = \"#32292F\"\n",
    "\n",
    "display(turtlesim.canvas)"
   ]
  },
  {
   "cell_type": "code",
   "execution_count": null,
   "id": "f07b10dc-2bed-4242-9bb6-af45ff2a2eeb",
   "metadata": {},
   "outputs": [],
   "source": [
    "topic1 = '/turtle1/pose'\n",
    "topic2 = '/turtle2/pose'\n",
    "run = True\n",
    "\n",
    "new_poses = {'turtle1': turtlesim.turtles['turtle1'].pose,\n",
    "             'turtle2': turtlesim.turtles['turtle2'].pose}\n",
    "\n",
    "def convert_xy_units(x, y):\n",
    "    # Based on the dimensions of window controlled by teleop keyboard\n",
    "    convert_factor = 11.08\n",
    "    x_convert = x / convert_factor * turtlesim.canvas.width\n",
    "    y_convert = (convert_factor - y) / convert_factor * turtlesim.canvas.height\n",
    "    \n",
    "    return x_convert, y_convert\n",
    "\n",
    "def callback_move_turtle(msg, turtle_name):\n",
    "    x, y = convert_xy_units(msg.x, msg.y)\n",
    "    pose = {\"x\": x, \"y\": y, \"theta\": msg.theta}\n",
    "    new_poses[turtle_name] = {\"x\": x, \"y\": y, \"theta\": msg.theta}"
   ]
  },
  {
   "cell_type": "code",
   "execution_count": null,
   "id": "8081511f-c8ab-49f8-8f95-497802547c53",
   "metadata": {},
   "outputs": [],
   "source": [
    "%%thread_cell\n",
    "\n",
    "rate = rospy.Rate(30) # 10 Hz\n",
    "while run:\n",
    "    turtlesim.move_turtles(new_poses)\n",
    "    rate.sleep()\n",
    "    \n",
    "print('Done')    "
   ]
  },
  {
   "cell_type": "code",
   "execution_count": null,
   "id": "83361a50-660d-4511-8d4a-936636ea0452",
   "metadata": {},
   "outputs": [],
   "source": [
    "jupyros.subscribe(topic1, Pose, lambda msg: callback_move_turtle(msg, turtle_name=\"turtle1\"))"
   ]
  },
  {
   "cell_type": "code",
   "execution_count": null,
   "id": "da28d1e8-c9d3-4d50-9f98-1a43ba6754e2",
   "metadata": {},
   "outputs": [],
   "source": [
    "jupyros.subscribe(topic2, Pose, lambda msg: callback_move_turtle(msg, turtle_name=\"turtle2\"))"
   ]
  },
  {
   "cell_type": "markdown",
   "id": "431e0723-b7f2-4dbd-84cf-10f61c523978",
   "metadata": {},
   "source": [
    "- Run turtle.launch file\n",
    "- [Optional] run turtle_teleop_key"
   ]
  },
  {
   "cell_type": "code",
   "execution_count": null,
   "id": "d5796c53-c88a-48ad-af21-8fdf969f563f",
   "metadata": {},
   "outputs": [],
   "source": [
    "run = False"
   ]
  }
 ],
 "metadata": {
  "kernelspec": {
   "display_name": "Python 3 (ipykernel)",
   "language": "python",
   "name": "python3"
  },
  "language_info": {
   "codemirror_mode": {
    "name": "ipython",
    "version": 3
   },
   "file_extension": ".py",
   "mimetype": "text/x-python",
   "name": "python",
   "nbconvert_exporter": "python",
   "pygments_lexer": "ipython3",
   "version": "3.9.13"
  }
 },
 "nbformat": 4,
 "nbformat_minor": 5
}
