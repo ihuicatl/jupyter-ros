{
 "cells": [
  {
   "cell_type": "code",
   "execution_count": null,
   "id": "8f253968-d180-450e-adeb-dad51095ffe7",
   "metadata": {},
   "outputs": [],
   "source": [
    "import random\n",
    "import rospy\n",
    "import jupyros\n",
    "from sensor_msgs.msg import JointState\n",
    "from joint_state_publisher import JointStatePublisher\n",
    "from ipywidgets import FloatSlider, Layout, Button, Box, FloatText, Label"
   ]
  },
  {
   "cell_type": "code",
   "execution_count": null,
   "id": "0f0610c7-1594-4aec-abf1-f20e90c061bc",
   "metadata": {},
   "outputs": [],
   "source": [
    "rospy.init_node('niryo_node')"
   ]
  },
  {
   "cell_type": "markdown",
   "id": "f698d284-10e7-4781-b642-83042187d5e0",
   "metadata": {},
   "source": [
    "# Zethus\n",
    "\n",
    "A robot description needs to be available (launch niryo.launch)\n",
    "\n",
    "Features:\n",
    "- RQT graph\n",
    "- Info panel to view topic messages\n",
    "- Other visualizations"
   ]
  },
  {
   "cell_type": "code",
   "execution_count": null,
   "id": "6505845a-9029-42fd-9456-efeaad1e2a38",
   "metadata": {},
   "outputs": [],
   "source": [
    "msg = JointState()\n",
    "jsp = JointStatePublisher()\n",
    "joint_state_dict = {}\n",
    "\n",
    "for i in jsp.free_joints:\n",
    "    minPos = jsp.free_joints[i]['min']\n",
    "    maxPos = jsp.free_joints[i]['max']\n",
    "    step = (maxPos - minPos) / 100\n",
    "    joint_state_dict[i] = FloatSlider(min=minPos, max=maxPos, step=step)"
   ]
  },
  {
   "cell_type": "markdown",
   "id": "71cb9d3f-0779-44d7-947d-7145fd462cec",
   "metadata": {},
   "source": [
    "### Joint State Publisher"
   ]
  },
  {
   "cell_type": "code",
   "execution_count": null,
   "id": "51d2bca2-76b2-4602-9f35-e43884d3f473",
   "metadata": {},
   "outputs": [],
   "source": [
    "pub = rospy.Publisher('/joint_states', JointState, queue_size=10)\n",
    "\n",
    "def on_sent(b):\n",
    "    msg.header.stamp = rospy.Time.now()\n",
    "    msg.name = [str(i) for i in joint_state_dict]\n",
    "    msg.position = [joint_state_dict[i].value for i in joint_state_dict]\n",
    "    pub.publish(msg)\n",
    "\n",
    "for key, value in joint_state_dict.items():\n",
    "    value.observe(on_sent)"
   ]
  },
  {
   "cell_type": "code",
   "execution_count": null,
   "id": "386641e6-e7dc-4fdb-bc7b-ddc947f51ebe",
   "metadata": {},
   "outputs": [],
   "source": [
    "randomize = Button(description='Randomize')\n",
    "\n",
    "def on_randomize(randomize):\n",
    "    pub = rospy.Publisher('/joint_states', JointState, queue_size=10)\n",
    "    for i in joint_state_dict:\n",
    "        msg.name = [str(i)]\n",
    "        msg.position = [random.uniform(joint_state_dict[i].min, joint_state_dict[i].max)]\n",
    "        joint_state_dict[i].value = msg.position[0]\n",
    "        pub.publish(msg)    \n",
    "        \n",
    "randomize.on_click(on_randomize)"
   ]
  },
  {
   "cell_type": "code",
   "execution_count": null,
   "id": "0484e016-2418-4247-9515-9c9291c434b1",
   "metadata": {},
   "outputs": [],
   "source": [
    "center = Button(description='Center')\n",
    "\n",
    "def on_center(b):\n",
    "    pub = rospy.Publisher('/joint_states', JointState, queue_size=10)\n",
    "    for i in joint_state_dict:\n",
    "        msg.name = [str(i)]\n",
    "        msg.position = [0]\n",
    "        joint_state_dict[i].value = 0\n",
    "        pub.publish(msg)\n",
    "\n",
    "center.on_click(on_center)"
   ]
  },
  {
   "cell_type": "markdown",
   "id": "8c8578a5-9a00-4eb0-937c-fa05ccbfcc31",
   "metadata": {},
   "source": [
    "### Widget"
   ]
  },
  {
   "cell_type": "code",
   "execution_count": null,
   "id": "7ae4d5f1-f0fa-42ae-80c8-9025340ebe92",
   "metadata": {},
   "outputs": [],
   "source": [
    "form_items1 = [Box([Label(value=j), joint_state_dict[j]]) for j in jsp.free_joints]\n",
    "form_items1 += [Box([center]), Box([randomize])]\n",
    "\n",
    "form = Box(form_items1, layout=Layout(\n",
    "    display='flex',\n",
    "    flex_flow='column',\n",
    "    align_items='stretch',\n",
    "    width='80%',\n",
    "    padding='10px'\n",
    "))\n",
    "\n",
    "form"
   ]
  },
  {
   "cell_type": "markdown",
   "id": "a3d1cf5e-6ca8-45e1-8d6c-dbd0e86c7e6e",
   "metadata": {},
   "source": [
    "### Live Plots"
   ]
  },
  {
   "cell_type": "code",
   "execution_count": null,
   "id": "f5f71d56-9aa6-44cb-aa33-72d8322a96c0",
   "metadata": {},
   "outputs": [],
   "source": [
    "jupyros.live_plot('joint_states/:position', JointState)"
   ]
  }
 ],
 "metadata": {
  "kernelspec": {
   "display_name": "Python 3 (ipykernel)",
   "language": "python",
   "name": "python3"
  },
  "language_info": {
   "codemirror_mode": {
    "name": "ipython",
    "version": 3
   },
   "file_extension": ".py",
   "mimetype": "text/x-python",
   "name": "python",
   "nbconvert_exporter": "python",
   "pygments_lexer": "ipython3",
   "version": "3.9.13"
  }
 },
 "nbformat": 4,
 "nbformat_minor": 5
}
