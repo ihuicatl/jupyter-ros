{
 "cells": [
  {
   "cell_type": "markdown",
   "id": "98004c08-48a8-4d4c-a0f3-3a21f67abeb9",
   "metadata": {},
   "source": [
    "# Jupyter + ROS"
   ]
  },
  {
   "cell_type": "markdown",
   "id": "3b46f22d-91e0-496c-bf70-af098640f109",
   "metadata": {},
   "source": [
    "Packages:\n",
    "- **jupyterlab-ros** $\\rightarrow$ ROS extension for JupyterLab\n",
    "- **jupyter-ros** $\\rightarrow$ provides widgets to interact with ROS"
   ]
  },
  {
   "cell_type": "code",
   "execution_count": null,
   "id": "bf18ea84-994f-4e52-8c65-6afa037c0ea5",
   "metadata": {},
   "outputs": [],
   "source": [
    "import jupyros"
   ]
  },
  {
   "cell_type": "markdown",
   "id": "63c1f577-8372-47a7-b166-fa843a6e5437",
   "metadata": {},
   "source": [
    "# Installation\n",
    "\n",
    "Create a new conda environment *jros* (or any name) with the following packages:\n",
    "\n",
    "- From RoboStack\n",
    "    - jupyter-ros\n",
    "    - jupyterlab-ros\n",
    "    - ros-noetic-desktop\n",
    "    - ros-noetic-moveit\n",
    "- From Conda-Forge\n",
    "    - jupyterlab\n",
    "    - ipycanvas\n",
    "\n",
    "```bash\n",
    "mamba create -n jros jupyter-ros jupyterlab-ros jupyterlab ros-noetic-desktop -c conda-forge -c robostack\n",
    "```"
   ]
  }
 ],
 "metadata": {
  "kernelspec": {
   "display_name": "Python 3 (ipykernel)",
   "language": "python",
   "name": "python3"
  },
  "language_info": {
   "codemirror_mode": {
    "name": "ipython",
    "version": 3
   },
   "file_extension": ".py",
   "mimetype": "text/x-python",
   "name": "python",
   "nbconvert_exporter": "python",
   "pygments_lexer": "ipython3",
   "version": "3.9.13"
  }
 },
 "nbformat": 4,
 "nbformat_minor": 5
}
